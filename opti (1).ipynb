{
 "cells": [
  {
   "cell_type": "code",
   "execution_count": 1,
   "id": "33198055",
   "metadata": {},
   "outputs": [
    {
     "name": "stdout",
     "output_type": "stream",
     "text": [
      "Collecting pyomo\n",
      "  Downloading Pyomo-6.6.1.tar.gz (2.5 MB)\n",
      "\u001b[2K     \u001b[90m━━━━━━━━━━━━━━━━━━━━━━━━━━━━━━━━━━━━━━━━\u001b[0m \u001b[32m2.5/2.5 MB\u001b[0m \u001b[31m2.0 MB/s\u001b[0m eta \u001b[36m0:00:00\u001b[0m00:01\u001b[0m00:01\u001b[0m\n",
      "\u001b[?25h  Preparing metadata (setup.py) ... \u001b[?25ldone\n",
      "\u001b[?25hRequirement already satisfied: ply in /Users/Apiux/anaconda3/lib/python3.10/site-packages (from pyomo) (3.11)\n",
      "Building wheels for collected packages: pyomo\n",
      "  Building wheel for pyomo (setup.py) ... \u001b[?25ldone\n",
      "\u001b[?25h  Created wheel for pyomo: filename=Pyomo-6.6.1-py2.py3-none-any.whl size=3206872 sha256=b28097014b5b7f81787eca064fb7647c523653525b6ccf42d22f7da8273dcea5\n",
      "  Stored in directory: /Users/Apiux/Library/Caches/pip/wheels/9f/27/53/0e954d2b2f5734e1ed26f78c95b00e29533fca902819818f0f\n",
      "Successfully built pyomo\n",
      "Installing collected packages: pyomo\n",
      "Successfully installed pyomo-6.6.1\n"
     ]
    }
   ],
   "source": [
    "!pip3 install pyomo"
   ]
  },
  {
   "cell_type": "code",
   "execution_count": 2,
   "id": "56912ec1",
   "metadata": {},
   "outputs": [
    {
     "name": "stdout",
     "output_type": "stream",
     "text": [
      "Collecting package metadata (current_repodata.json): done\n",
      "Solving environment: done\n",
      "\n",
      "\n",
      "==> WARNING: A newer version of conda exists. <==\n",
      "  current version: 23.3.1\n",
      "  latest version: 23.5.0\n",
      "\n",
      "Please update conda by running\n",
      "\n",
      "    $ conda update -n base -c defaults conda\n",
      "\n",
      "Or to minimize the number of packages updated during conda update use\n",
      "\n",
      "     conda install conda=23.5.0\n",
      "\n",
      "\n",
      "\n",
      "## Package Plan ##\n",
      "\n",
      "  environment location: /Users/Apiux/anaconda3\n",
      "\n",
      "  added / updated specs:\n",
      "    - glpk\n",
      "\n",
      "\n",
      "The following packages will be downloaded:\n",
      "\n",
      "    package                    |            build\n",
      "    ---------------------------|-----------------\n",
      "    ca-certificates-2023.5.7   |       h8857fd0_0         145 KB  conda-forge\n",
      "    certifi-2023.5.7           |     pyhd8ed1ab_0         149 KB  conda-forge\n",
      "    glpk-5.0                   |       h3cb5acd_0         1.0 MB  conda-forge\n",
      "    openssl-1.1.1u             |       h8a1eda9_0         1.7 MB  conda-forge\n",
      "    ------------------------------------------------------------\n",
      "                                           Total:         2.9 MB\n",
      "\n",
      "The following NEW packages will be INSTALLED:\n",
      "\n",
      "  glpk               conda-forge/osx-64::glpk-5.0-h3cb5acd_0 \n",
      "\n",
      "The following packages will be SUPERSEDED by a higher-priority channel:\n",
      "\n",
      "  ca-certificates    pkgs/main::ca-certificates-2023.05.30~ --> conda-forge::ca-certificates-2023.5.7-h8857fd0_0 \n",
      "  certifi            pkgs/main/osx-64::certifi-2023.5.7-py~ --> conda-forge/noarch::certifi-2023.5.7-pyhd8ed1ab_0 \n",
      "  openssl              pkgs/main::openssl-1.1.1u-hca72f7f_0 --> conda-forge::openssl-1.1.1u-h8a1eda9_0 \n",
      "\n",
      "\n",
      "\n",
      "Downloading and Extracting Packages\n",
      "glpk-5.0             | 1.0 MB    |                                       |   0% \n",
      "openssl-1.1.1u       | 1.7 MB    |                                       |   0% \u001b[A\n",
      "\n",
      "certifi-2023.5.7     | 149 KB    |                                       |   0% \u001b[A\u001b[A\n",
      "\n",
      "\n",
      "ca-certificates-2023 | 145 KB    |                                       |   0% \u001b[A\u001b[A\u001b[A\n",
      "openssl-1.1.1u       | 1.7 MB    | 3                                     |   1% \u001b[A\n",
      "\n",
      "certifi-2023.5.7     | 149 KB    | ###9                                  |  11% \u001b[A\u001b[A\n",
      "glpk-5.0             | 1.0 MB    | 5                                     |   2% \u001b[A\n",
      "\n",
      "certifi-2023.5.7     | 149 KB    | ###########9                          |  32% \u001b[A\u001b[A\n",
      "openssl-1.1.1u       | 1.7 MB    | #7                                    |   5% \u001b[A\n",
      "\n",
      "\n",
      "glpk-5.0             | 1.0 MB    | #7                                    |   5% \u001b[A\u001b[A\u001b[A\n",
      "openssl-1.1.1u       | 1.7 MB    | ##4                                   |   7% \u001b[A\n",
      "\n",
      "certifi-2023.5.7     | 149 KB    | ###########################8          |  75% \u001b[A\u001b[A\n",
      "glpk-5.0             | 1.0 MB    | ##8                                   |   8% \u001b[A\n",
      "\n",
      "\n",
      "ca-certificates-2023 | 145 KB    | ########1                             |  22% \u001b[A\u001b[A\u001b[A\n",
      "\n",
      "certifi-2023.5.7     | 149 KB    | ##################################### | 100% \u001b[A\u001b[A\n",
      "glpk-5.0             | 1.0 MB    | ####6                                 |  12% \u001b[A\n",
      "glpk-5.0             | 1.0 MB    | ######3                               |  17% \u001b[A\n",
      "\n",
      "\n",
      "ca-certificates-2023 | 145 KB    | ####################4                 |  55% \u001b[A\u001b[A\u001b[A\n",
      "glpk-5.0             | 1.0 MB    | #######5                              |  20% \u001b[A\n",
      "glpk-5.0             | 1.0 MB    | #########2                            |  25% \u001b[A\n",
      "\n",
      "\n",
      "ca-certificates-2023 | 145 KB    | ########################4             |  66% \u001b[A\u001b[A\u001b[A\n",
      "openssl-1.1.1u       | 1.7 MB    | #######6                              |  21% \u001b[A\n",
      "\n",
      "\n",
      "glpk-5.0             | 1.0 MB    | ##########4                           |  28% \u001b[A\u001b[A\u001b[A\n",
      "openssl-1.1.1u       | 1.7 MB    | ########3                             |  23% \u001b[A\n",
      "glpk-5.0             | 1.0 MB    | ###########5                          |  31% \u001b[A\n",
      "openssl-1.1.1u       | 1.7 MB    | ##########1                           |  27% \u001b[A\n",
      "\n",
      "\n",
      "glpk-5.0             | 1.0 MB    | #############2                        |  36% \u001b[A\u001b[A\u001b[A\n",
      "\n",
      "\n",
      "ca-certificates-2023 | 145 KB    | ##################################### | 100% \u001b[A\u001b[A\u001b[A\n",
      "glpk-5.0             | 1.0 MB    | ##############4                       |  39% \u001b[A\n",
      "glpk-5.0             | 1.0 MB    | ###############6                      |  42% \u001b[A\n",
      "glpk-5.0             | 1.0 MB    | #################3                    |  47% \u001b[A\n",
      "glpk-5.0             | 1.0 MB    | ##################4                   |  50% \u001b[A\n",
      "glpk-5.0             | 1.0 MB    | ####################2                 |  55% \u001b[A\n",
      "openssl-1.1.1u       | 1.7 MB    | ################4                     |  44% \u001b[A\n",
      "glpk-5.0             | 1.0 MB    | ######################5               |  61% \u001b[A\n",
      "glpk-5.0             | 1.0 MB    | ########################2             |  66% \u001b[A\n",
      "glpk-5.0             | 1.0 MB    | ##########################            |  70% \u001b[A\n",
      "glpk-5.0             | 1.0 MB    | ###########################7          |  75% \u001b[A\n",
      "openssl-1.1.1u       | 1.7 MB    | #######################4              |  63% \u001b[A\n",
      "glpk-5.0             | 1.0 MB    | #############################4        |  80% \u001b[A\n",
      "glpk-5.0             | 1.0 MB    | ##############################6       |  83% \u001b[A\n",
      "glpk-5.0             | 1.0 MB    | ###############################7      |  86% \u001b[A\n",
      "glpk-5.0             | 1.0 MB    | ################################9     |  89% \u001b[A\n",
      "glpk-5.0             | 1.0 MB    | ##################################1   |  92% \u001b[A\n",
      "glpk-5.0             | 1.0 MB    | ###################################8  |  97% \u001b[A\n",
      "glpk-5.0             | 1.0 MB    | ##################################### | 100% \u001b[A\n",
      "openssl-1.1.1u       | 1.7 MB    | ##################################9   |  94% \u001b[A\n",
      "openssl-1.1.1u       | 1.7 MB    | ##################################### | 100% \u001b[A\n",
      "                                                                                \u001b[A\n",
      "                                                                                \u001b[A\n",
      "\n",
      "                                                                                \u001b[A\u001b[A\n",
      "\n",
      "\n",
      "                                                                                \u001b[A\u001b[A\u001b[A\n",
      "Preparing transaction: done\n",
      "Verifying transaction: done\n",
      "Executing transaction: done\n",
      "\n",
      "Note: you may need to restart the kernel to use updated packages.\n"
     ]
    }
   ],
   "source": [
    "conda install -c conda-forge glpk"
   ]
  },
  {
   "cell_type": "code",
   "execution_count": 4,
   "id": "75b57126",
   "metadata": {},
   "outputs": [],
   "source": [
    "import numpy as np\n",
    "import pyomo.environ as pyo\n",
    "np.random.seed(10)"
   ]
  },
  {
   "cell_type": "code",
   "execution_count": 5,
   "id": "331a3d49",
   "metadata": {},
   "outputs": [
    {
     "name": "stdout",
     "output_type": "stream",
     "text": [
      "conjunto J: [0, 1, 2, 3, 4, 5, 6, 7, 8, 9]\n",
      "conjunto U: [0, 1, 2, 3, 4]\n"
     ]
    }
   ],
   "source": [
    "J=range(10) \n",
    "U= range(5)\n",
    "print(\"conjunto J:\", [j for j in J])\n",
    "print(\"conjunto U:\", [u for u in U])"
   ]
  },
  {
   "cell_type": "code",
   "execution_count": 7,
   "id": "52492da9",
   "metadata": {},
   "outputs": [
    {
     "name": "stdout",
     "output_type": "stream",
     "text": [
      "[18. 10. 16. 17. 15. 12. 12. 18. 12. 11.]\n"
     ]
    }
   ],
   "source": [
    "CB=100 #costo por no satisfacer la demanda\n",
    "P=4 #puntos verdes a abrir\n",
    "Dist_max = 60 #distancia maxima que recorren\n",
    "f= np.round(np.random.uniform(10,20,len(J)),0) #costo localizar un punto verde\n",
    "dist=np.round(np.random.uniform(10,200,(len(U),len (J))),0) #matriz de distancia\n",
    "dda=np.round(np.random.uniform(5,20,len(U)),0) #DEMANDA\n",
    "\n",
    "print (f)"
   ]
  },
  {
   "cell_type": "code",
   "execution_count": 8,
   "id": "1bdcbde3",
   "metadata": {},
   "outputs": [
    {
     "name": "stdout",
     "output_type": "stream",
     "text": [
      "[[140. 191.  11. 107. 164. 126. 147.  65. 184. 146.]\n",
      " [113.  37.  81. 138.  94.  92. 127. 107. 134. 124.]\n",
      " [163. 109. 183.  71.  27.  67.  32. 167.  19. 129.]\n",
      " [114. 166.  48. 173.  77. 153.  66. 178.  72.  41.]\n",
      " [ 85.  28. 166.  39.  83. 189. 198.  97. 167.  58.]]\n"
     ]
    }
   ],
   "source": [
    "print (dist)"
   ]
  },
  {
   "cell_type": "code",
   "execution_count": 11,
   "id": "c59cc850",
   "metadata": {},
   "outputs": [
    {
     "name": "stdout",
     "output_type": "stream",
     "text": [
      "[14. 19. 13. 14.  6.]\n"
     ]
    }
   ],
   "source": [
    "print (dda)"
   ]
  },
  {
   "cell_type": "code",
   "execution_count": 62,
   "id": "e433da31",
   "metadata": {},
   "outputs": [
    {
     "ename": "NameError",
     "evalue": "name 'u' is not defined",
     "output_type": "error",
     "traceback": [
      "\u001b[0;31m---------------------------------------------------------------------------\u001b[0m",
      "\u001b[0;31mNameError\u001b[0m                                 Traceback (most recent call last)",
      "Cell \u001b[0;32mIn[62], line 13\u001b[0m\n\u001b[1;32m     11\u001b[0m costo_relocalizacion\u001b[38;5;241m=\u001b[39m \u001b[38;5;241m0\u001b[39m\n\u001b[1;32m     12\u001b[0m costo_social\u001b[38;5;241m=\u001b[39m \u001b[38;5;241m0\u001b[39m \u001b[38;5;66;03m#microbasural\u001b[39;00m\n\u001b[0;32m---> 13\u001b[0m costo_no_demanda\u001b[38;5;241m=\u001b[39m CB\u001b[38;5;241m*\u001b[39m(dda[\u001b[43mu\u001b[49m]\u001b[38;5;241m*\u001b[39m\u001b[38;5;28msum\u001b[39m((\u001b[38;5;241m1\u001b[39m\u001b[38;5;241m-\u001b[39m\u001b[38;5;28msum\u001b[39m(m\u001b[38;5;241m.\u001b[39mx[u,j] \u001b[38;5;28;01mfor\u001b[39;00m j \u001b[38;5;129;01min\u001b[39;00m J)) \u001b[38;5;28;01mfor\u001b[39;00m u \u001b[38;5;129;01min\u001b[39;00m U)) \u001b[38;5;66;03m#NO SATISFACER LA DEMANDA\u001b[39;00m\n\u001b[1;32m     16\u001b[0m m\u001b[38;5;241m.\u001b[39mfo \u001b[38;5;241m=\u001b[39m pyo\u001b[38;5;241m.\u001b[39mobjective(expr \u001b[38;5;241m=\u001b[39m costo_apertura \u001b[38;5;241m+\u001b[39m \n\u001b[1;32m     17\u001b[0m                   costo_social \u001b[38;5;241m+\u001b[39m \n\u001b[1;32m     18\u001b[0m                   costo_relocalizacion \u001b[38;5;241m+\u001b[39m \n\u001b[1;32m     19\u001b[0m                   costo_no_demanda, sense \u001b[38;5;241m=\u001b[39m pyo\u001b[38;5;241m.\u001b[39mminimize)\n\u001b[1;32m     21\u001b[0m \u001b[38;5;66;03m#RESTRICCIONES\u001b[39;00m\n\u001b[1;32m     22\u001b[0m \u001b[38;5;66;03m#P puntos verdes\u001b[39;00m\n",
      "\u001b[0;31mNameError\u001b[0m: name 'u' is not defined"
     ]
    }
   ],
   "source": [
    "#crear modelo de optimizacion\n",
    "m = pyo.ConcreteModel()\n",
    "\n",
    "#variables\n",
    "m.y = pyo.Var(J,within=pyo.Binary)\n",
    "m.x = pyo.Var(U,J,within=pyo.Binary)\n",
    "\n",
    "#funcion objetivo\n",
    "\n",
    "costo_apertura =sum(f[j]*m.y[j] for j in J)\n",
    "costo_relocalizacion= 0\n",
    "costo_social= 0 #microbasural\n",
    "costo_no_demanda= CB*(dda[u]*sum((1-sum(m.x[u,j] for j in J)) for u in U)) #NO SATISFACER LA DEMANDA\n",
    "\n",
    "\n",
    "m.fo = pyo.objective(expr = costo_apertura + \n",
    "                  costo_social + \n",
    "                  costo_relocalizacion + \n",
    "                  costo_no_demanda, sense = pyo.minimize)\n",
    "\n",
    "#RESTRICCIONES\n",
    "#P puntos verdes\n",
    "m.r1= pyo.constraint(exp=sum(m.y[j] for j in J) ==P)\n",
    "\n",
    "#las unidades van a lo más a un punto verde\n",
    "\n",
    "m.r2 = pyo.constraintlist()\n",
    "for u in U:\n",
    "    m.r2.add(expr = sum(m.x[u,j] for j in J) <=1)\n",
    "             \n",
    "# las personas no pueden viajar más que la distancia maxima\n",
    "             \n",
    "m.r3= pyo.ConstraintList()\n",
    "for u in U:\n",
    "    m.r3.add(expr=sum(dist[u][j]*m.x[u,j] for j in J) <= Dist_max)\n",
    "             \n",
    " # no puede ir a una localizacion donde no este abierto el punto verde\n",
    "m.r4= pyo.constraintlist()\n",
    "for u in U:\n",
    "    for j in J:\n",
    "            m.r4.add(expr=m.x[u,j]<=m.y[j])\n",
    "             \n",
    "#la unidad territorial va al punto mas cercano\n",
    "             \n",
    "m.r5= pyo.constraintlist()\n",
    "for u in U:\n",
    "    for j in J:\n",
    "            m.r5.add(expr=sum(m.x[u,j2] for j2 in J if dist[u,j] < dist[u,j2]) + m.y[j]<=1)\n",
    "             \n",
    "             \n",
    "\n",
    "\n"
   ]
  },
  {
   "cell_type": "code",
   "execution_count": 57,
   "id": "77589608",
   "metadata": {},
   "outputs": [
    {
     "ename": "AttributeError",
     "evalue": "'ConcreteModel' object has no attribute 'fo'",
     "output_type": "error",
     "traceback": [
      "\u001b[0;31m---------------------------------------------------------------------------\u001b[0m",
      "\u001b[0;31mAttributeError\u001b[0m                            Traceback (most recent call last)",
      "Cell \u001b[0;32mIn[57], line 4\u001b[0m\n\u001b[1;32m      1\u001b[0m opt\u001b[38;5;241m=\u001b[39mpyo\u001b[38;5;241m.\u001b[39mSolverFactory (\u001b[38;5;124m\"\u001b[39m\u001b[38;5;124mglpk\u001b[39m\u001b[38;5;124m\"\u001b[39m)\n\u001b[1;32m      2\u001b[0m results\u001b[38;5;241m=\u001b[39m opt\u001b[38;5;241m.\u001b[39msolve(m)\n\u001b[0;32m----> 4\u001b[0m \u001b[38;5;28mprint\u001b[39m  (pyo\u001b[38;5;241m.\u001b[39mvalue(\u001b[43mm\u001b[49m\u001b[38;5;241;43m.\u001b[39;49m\u001b[43mfo\u001b[49m))\n",
      "File \u001b[0;32m~/anaconda3/lib/python3.10/site-packages/pyomo/core/base/block.py:559\u001b[0m, in \u001b[0;36m_BlockData.__getattr__\u001b[0;34m(self, val)\u001b[0m\n\u001b[1;32m    556\u001b[0m     \u001b[38;5;28;01mreturn\u001b[39;00m _component_decorator(\u001b[38;5;28mself\u001b[39m, ModelComponentFactory\u001b[38;5;241m.\u001b[39mget_class(val))\n\u001b[1;32m    557\u001b[0m \u001b[38;5;66;03m# Since the base classes don't support getattr, we can just\u001b[39;00m\n\u001b[1;32m    558\u001b[0m \u001b[38;5;66;03m# throw the \"normal\" AttributeError\u001b[39;00m\n\u001b[0;32m--> 559\u001b[0m \u001b[38;5;28;01mraise\u001b[39;00m \u001b[38;5;167;01mAttributeError\u001b[39;00m(\n\u001b[1;32m    560\u001b[0m     \u001b[38;5;124m\"\u001b[39m\u001b[38;5;124m'\u001b[39m\u001b[38;5;132;01m%s\u001b[39;00m\u001b[38;5;124m'\u001b[39m\u001b[38;5;124m object has no attribute \u001b[39m\u001b[38;5;124m'\u001b[39m\u001b[38;5;132;01m%s\u001b[39;00m\u001b[38;5;124m'\u001b[39m\u001b[38;5;124m\"\u001b[39m \u001b[38;5;241m%\u001b[39m (\u001b[38;5;28mself\u001b[39m\u001b[38;5;241m.\u001b[39m\u001b[38;5;18m__class__\u001b[39m\u001b[38;5;241m.\u001b[39m\u001b[38;5;18m__name__\u001b[39m, val)\n\u001b[1;32m    561\u001b[0m )\n",
      "\u001b[0;31mAttributeError\u001b[0m: 'ConcreteModel' object has no attribute 'fo'"
     ]
    }
   ],
   "source": [
    "opt=pyo.SolverFactory (\"glpk\")\n",
    "results= opt.solve(m)\n",
    "\n",
    "print  (pyo.value(m.fo))\n",
    "\n",
    "            \n",
    "\n",
    "            "
   ]
  },
  {
   "cell_type": "code",
   "execution_count": null,
   "id": "65e2f58c",
   "metadata": {},
   "outputs": [],
   "source": []
  },
  {
   "cell_type": "code",
   "execution_count": null,
   "id": "16eca7de",
   "metadata": {},
   "outputs": [],
   "source": []
  },
  {
   "cell_type": "code",
   "execution_count": null,
   "id": "249331b8",
   "metadata": {},
   "outputs": [],
   "source": []
  }
 ],
 "metadata": {
  "kernelspec": {
   "display_name": "Python 3 (ipykernel)",
   "language": "python",
   "name": "python3"
  },
  "language_info": {
   "codemirror_mode": {
    "name": "ipython",
    "version": 3
   },
   "file_extension": ".py",
   "mimetype": "text/x-python",
   "name": "python",
   "nbconvert_exporter": "python",
   "pygments_lexer": "ipython3",
   "version": "3.10.9"
  }
 },
 "nbformat": 4,
 "nbformat_minor": 5
}
